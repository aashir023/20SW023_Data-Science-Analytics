{
 "cells": [
  {
   "cell_type": "code",
   "execution_count": 12,
   "id": "de9eab93",
   "metadata": {},
   "outputs": [
    {
     "name": "stdout",
     "output_type": "stream",
     "text": [
      "expected_result_1 20.0\n",
      "expected_result_2 104.0\n"
     ]
    }
   ],
   "source": [
    "# TASK 1\n",
    "\n",
    "def population_density(population, land_area):\n",
    "    return population/land_area\n",
    "\n",
    "test_1 = population_density(10000, 500)\n",
    "print(f\"expected_result_1 {test_1}\")\n",
    "\n",
    "test_2 = population_density(52000, 500)\n",
    "print(f\"expected_result_2 {test_2}\")"
   ]
  },
  {
   "cell_type": "code",
   "execution_count": 13,
   "id": "a251437f",
   "metadata": {},
   "outputs": [],
   "source": [
    "# Write a function named readable_timedelta . The function should take one \n",
    "# argument, an integer days , and return a string that says how many weeks and days \n",
    "# that is. For example, calling the function and printing the result like this:\n",
    "#     print(readable_timedelta(10))\n",
    "# should output the following:\n",
    "# 1 week(s) and 3 day(s)."
   ]
  },
  {
   "cell_type": "code",
   "execution_count": 14,
   "id": "0ae601cc",
   "metadata": {},
   "outputs": [
    {
     "name": "stdout",
     "output_type": "stream",
     "text": [
      "4 weeks, 3 days\n"
     ]
    }
   ],
   "source": [
    "# Task 2\n",
    "def time_delta(num):\n",
    "    weeks = num // 7\n",
    "    quo = num % 7\n",
    "    print(f\"{weeks} weeks, {quo} days\")\n",
    "\n",
    "time_delta(31)\n",
    "\n",
    "    "
   ]
  },
  {
   "cell_type": "code",
   "execution_count": 15,
   "id": "4caab7fb",
   "metadata": {},
   "outputs": [
    {
     "name": "stdout",
     "output_type": "stream",
     "text": [
      "[57.0, 58.2, 50.6, 27.2]\n"
     ]
    }
   ],
   "source": [
    "# TASK 3\n",
    "numbers = [\n",
    " [34, 63, 88, 71, 29],\n",
    " [90, 78, 51, 27, 45],\n",
    " [63, 37, 85, 46, 22],\n",
    " [51, 22, 34, 11, 18]\n",
    "]\n",
    "\n",
    "averages = list(map(lambda num_list: sum(num_list) / len(num_list), numbers))\n",
    "print(averages)\n"
   ]
  },
  {
   "cell_type": "code",
   "execution_count": 16,
   "id": "5c57e9b4",
   "metadata": {},
   "outputs": [
    {
     "name": "stdout",
     "output_type": "stream",
     "text": [
      "['Chicago', 'Mountain', 'View', 'Denver', 'Boston']\n"
     ]
    }
   ],
   "source": [
    "# TASK 4\n",
    "cities = [\"New York City\", \"Los Angeles\", \"Chicago\", \"Mountain\",\n",
    "\"View\", \"Denver\", \"Boston\"]\n",
    "# def is_short(name):\n",
    "#     return len(name) < 10\n",
    "\n",
    "short_cities = list(filter(lambda cities: len(cities) <10,  cities))\n",
    "print(short_cities)"
   ]
  },
  {
   "cell_type": "code",
   "execution_count": 15,
   "id": "cf83129f",
   "metadata": {},
   "outputs": [
    {
     "name": "stdout",
     "output_type": "stream",
     "text": [
      "Enter your name : \n",
      "aashir ali usama\n",
      " Names list : ['aashir', 'ali', 'usama']\n",
      "Enter your missing assignments : \n",
      "5 6 7\n",
      " Missed Assignments List : [5, 6, 7]\n",
      "Enter your grades : \n",
      "80 75 72\n",
      " List : [80, 75, 72]\n",
      " Hi ['aashir'],\n",
      " This is a reminder that you have 5 assignments left to submit before you can graduate. Your current grade is 80 and can increase to 90 if you submit all assignments before the due date.\n",
      " Hi ['ali'],\n",
      " This is a reminder that you have 6 assignments left to submit before you can graduate. Your current grade is 75 and can increase to 87 if you submit all assignments before the due date.\n",
      " Hi ['usama'],\n",
      " This is a reminder that you have 7 assignments left to submit before you can graduate. Your current grade is 72 and can increase to 86 if you submit all assignments before the due date.\n"
     ]
    }
   ],
   "source": [
    "# TASK 5\n",
    "\n",
    "names = input(\"Enter your name : \\n\")\n",
    "names_list = names.split()\n",
    "\n",
    "print(f\" Names list : {names_list}\")\n",
    "\n",
    "\n",
    "m_assignments = input(\"Enter your missing assignments : \\n\")\n",
    "m_ass_str = [int(num_str) for num_str in m_assignments.split()]\n",
    "\n",
    "print(f\" Missed Assignments List : {m_ass_str}\")\n",
    "\n",
    "grade = input(\"Enter your grades : \\n\")\n",
    "grade_str = [int(g_str) for g_str in grade.split()]\n",
    "\n",
    "potential_grade = 0\n",
    "\n",
    "print(f\" List : {grade_str}\")\n",
    "\n",
    "for n, m, g in zip(names_list, m_ass_str, grade_str):\n",
    "    potential_grade = g + 2 * m\n",
    "    print(f\" Hi {[n]},\\n This is a reminder that you have {m} assignments left to submit before you can graduate. Your current grade is {g} and can increase to {potential_grade} if you submit all assignments before the due date.\")\n",
    "\n",
    "\n"
   ]
  },
  {
   "cell_type": "code",
   "execution_count": 7,
   "id": "5d0325bf",
   "metadata": {},
   "outputs": [
    {
     "name": "stdout",
     "output_type": "stream",
     "text": [
      "enter numbers : 10 20 30 40\n"
     ]
    },
    {
     "data": {
      "text/plain": [
       "[10, 20, 30, 40]"
      ]
     },
     "execution_count": 7,
     "metadata": {},
     "output_type": "execute_result"
    }
   ],
   "source": [
    "# TASK 6 "
   ]
  },
  {
   "cell_type": "code",
   "execution_count": null,
   "id": "eb2c1503",
   "metadata": {},
   "outputs": [],
   "source": []
  },
  {
   "cell_type": "code",
   "execution_count": 11,
   "id": "180851f7",
   "metadata": {},
   "outputs": [
    {
     "name": "stdout",
     "output_type": "stream",
     "text": [
      "wasalam baba kathe aan\n"
     ]
    }
   ],
   "source": [
    "# TASK 7\n",
    "\n",
    "def create_cast_list(filename):\n",
    "    cast_list = []\n",
    "    with open(filename, \"r\") as file:\n",
    "        for line in file:\n",
    "            actor_name = line.split(\",\")[0].strip()\n",
    "            cast_list.append(actor_name)\n",
    "    return cast_list\n",
    "\n",
    "cast_list = create_cast_list(r\"C:\\Users\\Aashir\\Desktop\\flying_circus_cast.txt\")\n",
    "for actor in cast_list:\n",
    "    print(actor)\n"
   ]
  },
  {
   "cell_type": "code",
   "execution_count": null,
   "id": "a51e71cd",
   "metadata": {},
   "outputs": [],
   "source": []
  }
 ],
 "metadata": {
  "kernelspec": {
   "display_name": "Python 3 (ipykernel)",
   "language": "python",
   "name": "python3"
  },
  "language_info": {
   "codemirror_mode": {
    "name": "ipython",
    "version": 3
   },
   "file_extension": ".py",
   "mimetype": "text/x-python",
   "name": "python",
   "nbconvert_exporter": "python",
   "pygments_lexer": "ipython3",
   "version": "3.9.7"
  }
 },
 "nbformat": 4,
 "nbformat_minor": 5
}
