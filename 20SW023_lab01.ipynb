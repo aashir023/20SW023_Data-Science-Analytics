{
  "nbformat": 4,
  "nbformat_minor": 0,
  "metadata": {
    "colab": {
      "provenance": []
    },
    "kernelspec": {
      "name": "python3",
      "display_name": "Python 3"
    },
    "language_info": {
      "name": "python"
    }
  },
  "cells": [
    {
      "cell_type": "code",
      "execution_count": 2,
      "metadata": {
        "colab": {
          "base_uri": "https://localhost:8080/"
        },
        "id": "2lH7971v0eJo",
        "outputId": "17ebd61b-c08e-4cba-9c6f-591a88f9328a"
      },
      "outputs": [
        {
          "output_type": "stream",
          "name": "stdout",
          "text": [
            "Hello, World!\n"
          ]
        }
      ],
      "source": [
        "print(\"Hello, World!\")\n"
      ]
    },
    {
      "cell_type": "code",
      "source": [
        "# Variables and Basic Arithmetic\n",
        "a = 5\n",
        "b = 3\n",
        "sum_result = a + b\n",
        "sub_result = a - b\n",
        "mul_result = a * b\n",
        "div_result = a / b\n",
        "\n",
        "print(\"Sum:\", sum_result)\n",
        "print(\"Subtraction:\", sub_result)\n",
        "print(\"Multiplication:\", mul_result)\n",
        "print(\"Division:\", div_result)\n"
      ],
      "metadata": {
        "colab": {
          "base_uri": "https://localhost:8080/"
        },
        "id": "L4T-J6u51Qpj",
        "outputId": "aaef9eb7-9594-4d49-f4da-e7141f966f42"
      },
      "execution_count": 3,
      "outputs": [
        {
          "output_type": "stream",
          "name": "stdout",
          "text": [
            "Sum: 8\n",
            "Subtraction: 2\n",
            "Multiplication: 15\n",
            "Division: 1.6666666666666667\n"
          ]
        }
      ]
    },
    {
      "cell_type": "code",
      "source": [
        "# Data Types and Type Conversion\n",
        "x = 10\n",
        "y = 3.14\n",
        "name = \"John\"\n",
        "is_student = True\n",
        "\n",
        "# Type conversion\n",
        "x_to_str = str(x)\n",
        "y_to_int = int(y)\n",
        "name_to_list = list(name)\n",
        "is_student_to_str = str(is_student)\n",
        "\n",
        "print(\"x as string:\", x_to_str)\n",
        "print(\"y as integer:\", y_to_int)\n",
        "print(\"name as list:\", name_to_list)\n",
        "print(\"is_student as string:\", is_student_to_str)\n"
      ],
      "metadata": {
        "colab": {
          "base_uri": "https://localhost:8080/"
        },
        "id": "lPNtGxiP5PCA",
        "outputId": "aae7dfe6-83ed-4aa2-8d62-e01d3da77c23"
      },
      "execution_count": 5,
      "outputs": [
        {
          "output_type": "stream",
          "name": "stdout",
          "text": [
            "x as string: 10\n",
            "y as integer: 3\n",
            "name as list: ['J', 'o', 'h', 'n']\n",
            "is_student as string: True\n"
          ]
        }
      ]
    },
    {
      "cell_type": "code",
      "source": [
        "# Lists and Loops\n",
        "numbers = [1, 2, 3, 4, 5]\n",
        "\n",
        "# Loop through the list and print each element\n",
        "for num in numbers:\n",
        "    print(num)\n",
        "\n",
        "# List comprehensions\n",
        "squared_numbers = [num ** 2 for num in numbers]\n",
        "print(\"Squared numbers:\", squared_numbers)\n"
      ],
      "metadata": {
        "colab": {
          "base_uri": "https://localhost:8080/"
        },
        "id": "la47t1BN5SUT",
        "outputId": "46d8ee5a-7ed3-4b02-bc3c-5e032aa04f76"
      },
      "execution_count": 6,
      "outputs": [
        {
          "output_type": "stream",
          "name": "stdout",
          "text": [
            "1\n",
            "2\n",
            "3\n",
            "4\n",
            "5\n",
            "Squared numbers: [1, 4, 9, 16, 25]\n"
          ]
        }
      ]
    },
    {
      "cell_type": "code",
      "source": [
        "# Conditional Statements\n",
        "age = 25\n",
        "\n",
        "if age < 18:\n",
        "    print(\"You are a minor.\")\n",
        "elif age >= 18 and age < 65:\n",
        "    print(\"You are an adult.\")\n",
        "else:\n",
        "    print(\"You are a senior citizen.\")\n"
      ],
      "metadata": {
        "colab": {
          "base_uri": "https://localhost:8080/"
        },
        "id": "eiwl6OSL5YHC",
        "outputId": "b4f82304-b232-48ae-c66f-2136f8bdfd46"
      },
      "execution_count": 7,
      "outputs": [
        {
          "output_type": "stream",
          "name": "stdout",
          "text": [
            "You are an adult.\n"
          ]
        }
      ]
    },
    {
      "cell_type": "code",
      "source": [
        "# Functions\n",
        "def greet(name):\n",
        "    return \"Hello, \" + name + \"!\"\n",
        "\n",
        "def add(a, b):\n",
        "    return a + b\n",
        "\n",
        "print(greet(\"Alice\"))\n",
        "print(\"Sum:\", add(3, 4))\n"
      ],
      "metadata": {
        "colab": {
          "base_uri": "https://localhost:8080/"
        },
        "id": "ck4fGm6_5eGQ",
        "outputId": "8c29f75d-7a40-432f-e27c-799cc1dfa755"
      },
      "execution_count": 8,
      "outputs": [
        {
          "output_type": "stream",
          "name": "stdout",
          "text": [
            "Hello, Alice!\n",
            "Sum: 7\n"
          ]
        }
      ]
    },
    {
      "cell_type": "code",
      "source": [
        "# Dictionaries\n",
        "person = {\n",
        "    \"name\": \"John\",\n",
        "    \"age\": 30,\n",
        "    \"is_student\": False\n",
        "}\n",
        "\n",
        "print(\"Name:\", person[\"name\"])\n",
        "print(\"Age:\", person[\"age\"])\n",
        "print(\"Is Student?\", person[\"is_student\"])\n"
      ],
      "metadata": {
        "colab": {
          "base_uri": "https://localhost:8080/"
        },
        "id": "4oLOLZ_55fze",
        "outputId": "e4fcf5c1-b0cb-4afc-9484-5eec69b43644"
      },
      "execution_count": 9,
      "outputs": [
        {
          "output_type": "stream",
          "name": "stdout",
          "text": [
            "Name: John\n",
            "Age: 30\n",
            "Is Student? False\n"
          ]
        }
      ]
    },
    {
      "cell_type": "code",
      "source": [
        "# File Handling\n",
        "file_path = \"example.txt\"\n",
        "\n",
        "# Writing to a file\n",
        "with open(file_path, 'w') as file:\n",
        "    file.write(\"This is an example.\\n\")\n",
        "    file.write(\"Python is fun!\")\n",
        "\n",
        "# Reading from a file\n",
        "with open(file_path, 'r') as file:\n",
        "    content = file.read()\n",
        "\n",
        "print(\"File Content:\\n\", content)\n"
      ],
      "metadata": {
        "colab": {
          "base_uri": "https://localhost:8080/"
        },
        "id": "G2xu1_7W5hZz",
        "outputId": "c26ddd02-195b-41f3-e805-ea66ff772fb9"
      },
      "execution_count": 10,
      "outputs": [
        {
          "output_type": "stream",
          "name": "stdout",
          "text": [
            "File Content:\n",
            " This is an example.\n",
            "Python is fun!\n"
          ]
        }
      ]
    },
    {
      "cell_type": "code",
      "source": [
        "# While Loop\n",
        "count = 0\n",
        "while count < 5:\n",
        "    print(\"Count:\", count)\n",
        "    count += 1\n"
      ],
      "metadata": {
        "colab": {
          "base_uri": "https://localhost:8080/"
        },
        "id": "DjSksc-P5k_y",
        "outputId": "5d054c3b-1097-49f7-a702-bbfa8b88b4b1"
      },
      "execution_count": 12,
      "outputs": [
        {
          "output_type": "stream",
          "name": "stdout",
          "text": [
            "Count: 0\n",
            "Count: 1\n",
            "Count: 2\n",
            "Count: 3\n",
            "Count: 4\n"
          ]
        }
      ]
    },
    {
      "cell_type": "code",
      "source": [
        "# String Manipulation\n",
        "message = \"Hello, World!\"\n",
        "\n",
        "# String length\n",
        "print(\"Length of the message:\", len(message))\n",
        "\n",
        "# String slicing\n",
        "substring = message[0:5]  # Get characters from index 0 to 4 (exclusive)\n",
        "print(\"Substring:\", substring)\n",
        "\n",
        "# String concatenation\n",
        "name = \"Alice\"\n",
        "greeting = \"Hi, \" + name + \"!\"\n",
        "print(greeting)\n",
        "\n",
        "# String formatting\n",
        "age = 25\n",
        "formatted_string = f\"My name is {name} and I am {age} years old.\"\n",
        "print(formatted_string)\n"
      ],
      "metadata": {
        "colab": {
          "base_uri": "https://localhost:8080/"
        },
        "id": "BrDtgI1g5txu",
        "outputId": "248e476b-16af-4373-ca8e-0bb89c60a90e"
      },
      "execution_count": 13,
      "outputs": [
        {
          "output_type": "stream",
          "name": "stdout",
          "text": [
            "Length of the message: 13\n",
            "Substring: Hello\n",
            "Hi, Alice!\n",
            "My name is Alice and I am 25 years old.\n"
          ]
        }
      ]
    },
    {
      "cell_type": "code",
      "source": [
        "# Sets\n",
        "fruits = {\"apple\", \"banana\", \"orange\"}\n",
        "\n",
        "# Adding elements to a set\n",
        "fruits.add(\"grape\")\n",
        "\n",
        "# Removing elements from a set\n",
        "fruits.remove(\"banana\")  # Raises an error if the element is not present\n",
        "fruits.discard(\"kiwi\")   # Removes the element if it exists, otherwise does nothing\n",
        "\n",
        "print(\"Fruits set:\", fruits)\n"
      ],
      "metadata": {
        "colab": {
          "base_uri": "https://localhost:8080/"
        },
        "id": "Pl65DjD851Sh",
        "outputId": "e4a9ed8a-90f3-4757-87e4-5888b012acb1"
      },
      "execution_count": 14,
      "outputs": [
        {
          "output_type": "stream",
          "name": "stdout",
          "text": [
            "Fruits set: {'orange', 'grape', 'apple'}\n"
          ]
        }
      ]
    },
    {
      "cell_type": "code",
      "source": [
        "# Tuples\n",
        "point = (3, 5)\n",
        "\n",
        "# Unpacking a tuple\n",
        "x, y = point\n",
        "\n",
        "print(\"x coordinate:\", x)\n",
        "print(\"y coordinate:\", y)\n"
      ],
      "metadata": {
        "colab": {
          "base_uri": "https://localhost:8080/"
        },
        "id": "M7OV2ReE556A",
        "outputId": "0b127f94-8e97-423d-d4ec-1379d05b5420"
      },
      "execution_count": 15,
      "outputs": [
        {
          "output_type": "stream",
          "name": "stdout",
          "text": [
            "x coordinate: 3\n",
            "y coordinate: 5\n"
          ]
        }
      ]
    },
    {
      "cell_type": "code",
      "source": [
        "# List Operations\n",
        "numbers = [1, 2, 3, 4, 5]\n",
        "\n",
        "# List append\n",
        "numbers.append(6)\n",
        "\n",
        "# List insertion\n",
        "numbers.insert(2, 7)  # Insert 7 at index 2\n",
        "\n",
        "# List removal\n",
        "numbers.pop()   # Removes the last element\n",
        "numbers.remove(3)  # Removes the first occurrence of 3\n",
        "\n",
        "# List sorting\n",
        "numbers.sort()\n",
        "\n",
        "print(\"Updated list:\", numbers)\n"
      ],
      "metadata": {
        "colab": {
          "base_uri": "https://localhost:8080/"
        },
        "id": "pFF8V6Ri6C9S",
        "outputId": "a3d5f5ac-cdf6-456b-f4b7-5834578c61d7"
      },
      "execution_count": 17,
      "outputs": [
        {
          "output_type": "stream",
          "name": "stdout",
          "text": [
            "Updated list: [1, 2, 4, 5, 7]\n"
          ]
        }
      ]
    },
    {
      "cell_type": "code",
      "source": [
        "# Exception Handling\n",
        "try:\n",
        "    num1 = int(input(\"Enter a number: \"))\n",
        "    num2 = int(input(\"Enter another number: \"))\n",
        "    result = num1 / num2\n",
        "    print(\"Result:\", result)\n",
        "except ValueError:\n",
        "    print(\"Invalid input. Please enter valid numbers.\")\n",
        "except ZeroDivisionError:\n",
        "    print(\"Cannot divide by zero.\")\n"
      ],
      "metadata": {
        "colab": {
          "base_uri": "https://localhost:8080/"
        },
        "id": "BgWb7b1F6E3N",
        "outputId": "5e5ddc82-62ef-4028-aac5-96da4f4a8030"
      },
      "execution_count": 19,
      "outputs": [
        {
          "output_type": "stream",
          "name": "stdout",
          "text": [
            "Enter a number: 10\n",
            "Enter another number: 0\n",
            "Cannot divide by zero.\n"
          ]
        }
      ]
    },
    {
      "cell_type": "code",
      "source": [
        "# Classes and Objects\n",
        "class Dog:\n",
        "    def __init__(self, name, age):\n",
        "        self.name = name\n",
        "        self.age = age\n",
        "\n",
        "    def bark(self):\n",
        "        print(\"Woof! Woof!\")\n",
        "\n",
        "# Creating objects\n",
        "dog1 = Dog(\"Buddy\", 2)\n",
        "dog2 = Dog(\"Molly\", 3)\n",
        "\n",
        "# Accessing object attributes\n",
        "print(dog1.name)\n",
        "print(dog2.age)\n",
        "\n",
        "# Calling object methods\n",
        "dog1.bark()\n",
        "dog2.bark()\n"
      ],
      "metadata": {
        "colab": {
          "base_uri": "https://localhost:8080/"
        },
        "id": "ABXYPe066J79",
        "outputId": "bca0cd47-091d-49af-cc27-db65c54f8371"
      },
      "execution_count": 20,
      "outputs": [
        {
          "output_type": "stream",
          "name": "stdout",
          "text": [
            "Buddy\n",
            "3\n",
            "Woof! Woof!\n",
            "Woof! Woof!\n"
          ]
        }
      ]
    },
    {
      "cell_type": "code",
      "source": [],
      "metadata": {
        "id": "m24X5W166Ylt"
      },
      "execution_count": null,
      "outputs": []
    }
  ]
}