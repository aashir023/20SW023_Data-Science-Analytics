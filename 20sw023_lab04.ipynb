{
 "cells": [
  {
   "cell_type": "code",
   "execution_count": 1,
   "id": "84c2fa1d",
   "metadata": {},
   "outputs": [],
   "source": [
    "# Task#01\n",
    "# import numpy as np\n",
    "\n",
    "# # Using the Built-in functions you learned about in the\n",
    "# # previous lesson, create a 4 x 4 ndarray that only\n",
    "# # contains consecutive even numbers from 2 to 32 (inclusive)\n",
    "\n",
    "import numpy as np\n",
    "\n",
    "x = np.array(np.arange(2,33,2).reshape(4,4))\n"
   ]
  },
  {
   "cell_type": "code",
   "execution_count": 2,
   "id": "1c38dddd",
   "metadata": {},
   "outputs": [
    {
     "data": {
      "text/plain": [
       "2"
      ]
     },
     "execution_count": 2,
     "metadata": {},
     "output_type": "execute_result"
    }
   ],
   "source": [
    "# printing the dimensions of array\n",
    "x.ndim\n"
   ]
  },
  {
   "cell_type": "code",
   "execution_count": 3,
   "id": "77282834",
   "metadata": {},
   "outputs": [
    {
     "name": "stdout",
     "output_type": "stream",
     "text": [
      "[[ 2  4  6  8]\n",
      " [10 12 14 16]\n",
      " [18 20 22 24]\n",
      " [26 28 30 32]]\n"
     ]
    }
   ],
   "source": [
    "# printing the elements of the array\n",
    "print(x)"
   ]
  },
  {
   "cell_type": "code",
   "execution_count": 4,
   "id": "9199c3db",
   "metadata": {},
   "outputs": [],
   "source": [
    "\n",
    "# Task#02\n",
    "\n",
    "# import numpy as np\n",
    "import numpy as np\n",
    "\n",
    "# # Create a 5 x 5 ndarray with consecutive integers from 1 to 25 (inclusive).\n",
    "# # Afterwards use Boolean indexing to pick out only the odd numbers in the array\n",
    "\n",
    "# # Create a 5 x 5 ndarray with consecutive integers from 1 to 25 (inclusive).\n",
    "X = np.array(np.arange(1,26).reshape(5,5))\n",
    "\n",
    "# # Use Boolean indexing to pick out only the odd numbers in the array\n",
    "\n"
   ]
  },
  {
   "cell_type": "code",
   "execution_count": 5,
   "id": "b63cf086",
   "metadata": {},
   "outputs": [
    {
     "name": "stdout",
     "output_type": "stream",
     "text": [
      "[[ 1  2  3  4  5]\n",
      " [ 6  7  8  9 10]\n",
      " [11 12 13 14 15]\n",
      " [16 17 18 19 20]\n",
      " [21 22 23 24 25]]\n"
     ]
    }
   ],
   "source": [
    "print(X)"
   ]
  },
  {
   "cell_type": "code",
   "execution_count": 9,
   "id": "ce2195cb",
   "metadata": {},
   "outputs": [],
   "source": [
    "# boolean indexing\n",
    "odd_nums = X[X % 2 == 1]\n"
   ]
  },
  {
   "cell_type": "code",
   "execution_count": 10,
   "id": "b2adcb9d",
   "metadata": {},
   "outputs": [
    {
     "name": "stdout",
     "output_type": "stream",
     "text": [
      "[ 1  3  5  7  9 11 13 15 17 19 21 23 25]\n"
     ]
    }
   ],
   "source": [
    "print(odd_nums)"
   ]
  },
  {
   "cell_type": "code",
   "execution_count": 16,
   "id": "3ee42686",
   "metadata": {},
   "outputs": [
    {
     "name": "stdout",
     "output_type": "stream",
     "text": [
      "[[1 1 1 1]\n",
      " [2 2 2 2]\n",
      " [3 3 3 3]\n",
      " [4 4 4 4]]\n"
     ]
    }
   ],
   "source": [
    "# Task#03\n",
    "\n",
    "import numpy as np\n",
    "\n",
    "# # Use Broadcasting to create a 4 x 4 ndarray that has its first\n",
    "# # column full of 1s, its second column full of 2s, its third\n",
    "# # column full of 3s, etc.. \n",
    "\n",
    "X = np.arange(1,5).reshape(4,1)\n",
    "\n",
    "y = X*np.ones((1,4), dtype=int)\n",
    "print(y)\n",
    "\n"
   ]
  },
  {
   "cell_type": "code",
   "execution_count": null,
   "id": "df113320",
   "metadata": {},
   "outputs": [],
   "source": []
  },
  {
   "cell_type": "code",
   "execution_count": null,
   "id": "3c12c0ab",
   "metadata": {},
   "outputs": [],
   "source": []
  }
 ],
 "metadata": {
  "kernelspec": {
   "display_name": "Python 3 (ipykernel)",
   "language": "python",
   "name": "python3"
  },
  "language_info": {
   "codemirror_mode": {
    "name": "ipython",
    "version": 3
   },
   "file_extension": ".py",
   "mimetype": "text/x-python",
   "name": "python",
   "nbconvert_exporter": "python",
   "pygments_lexer": "ipython3",
   "version": "3.9.7"
  }
 },
 "nbformat": 4,
 "nbformat_minor": 5
}
